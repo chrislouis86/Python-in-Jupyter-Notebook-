{
 "cells": [
  {
   "cell_type": "code",
   "execution_count": 1,
   "id": "f93cccc1",
   "metadata": {},
   "outputs": [],
   "source": [
    "# NumPy is a python package that has to be imported in each notebook we want to use it\n",
    "# it is common practice when importing a package in python to assing it an alias \n",
    "# in this notebook, we import the NumPy package and we refer to it as np \n",
    "\n",
    "\n",
    "import numpy as np"
   ]
  },
  {
   "cell_type": "code",
   "execution_count": 2,
   "id": "f0417d92",
   "metadata": {},
   "outputs": [],
   "source": [
    "# to access the functions, objects etc included in the NumPy package we use 'np.*'\n",
    "\n",
    "# lets create two arrays\n",
    "breakfast = np.array(['cinnamon bun', 'coffee', 'tomato juice']) # breakfast because stores the names of various the breakfast items\n",
    "prices = np.array([2,3.6,2.9]) #prices stores the price of each item"
   ]
  },
  {
   "cell_type": "code",
   "execution_count": 3,
   "id": "3da23cfa",
   "metadata": {},
   "outputs": [
    {
     "name": "stdout",
     "output_type": "stream",
     "text": [
      "['cinnamon bun' 'coffee' 'tomato juice']\n",
      "[2.  3.6 2.9]\n"
     ]
    }
   ],
   "source": [
    "# the two arrays are ordered so that there is a 1 to 1 correpsondence between their elements. \n",
    "print(breakfast)\n",
    "print(prices)"
   ]
  },
  {
   "cell_type": "code",
   "execution_count": 4,
   "id": "a4adb7c0",
   "metadata": {},
   "outputs": [
    {
     "name": "stdout",
     "output_type": "stream",
     "text": [
      "coffee\n"
     ]
    }
   ],
   "source": [
    "# to access specific elements of an array use []\n",
    "print(breakfast[1])"
   ]
  },
  {
   "cell_type": "code",
   "execution_count": 5,
   "id": "f585a793",
   "metadata": {},
   "outputs": [
    {
     "name": "stdout",
     "output_type": "stream",
     "text": [
      "cinnamon bun\n"
     ]
    }
   ],
   "source": [
    "print(breakfast[0])"
   ]
  },
  {
   "cell_type": "code",
   "execution_count": 6,
   "id": "40c5ca34",
   "metadata": {},
   "outputs": [
    {
     "name": "stdout",
     "output_type": "stream",
     "text": [
      "cinnamon bun\n",
      "coffee\n",
      "tomato juice\n"
     ]
    }
   ],
   "source": [
    "# we can go through all the elements of an array using a 'for loop'\n",
    "\n",
    "# the bock of code that belogns in loops (or other structures) id defined \n",
    "# by \"alinging\" the lines under the for statement \n",
    "\n",
    "for br in breakfast:  # the first line of a structure (loops, ifs or functions) always ends with :\n",
    "    print(br)"
   ]
  },
  {
   "cell_type": "code",
   "execution_count": 7,
   "id": "9c7bbc4d",
   "metadata": {},
   "outputs": [
    {
     "name": "stdout",
     "output_type": "stream",
     "text": [
      "cinnamon bun\n",
      "2.0\n",
      "coffee\n",
      "3.6\n",
      "tomato juice\n",
      "2.9\n"
     ]
    }
   ],
   "source": [
    "# we can use the range function to generate a sequence of numbers\n",
    "for i in range(0,breakfast.size):\n",
    "    print(breakfast[i])\n",
    "    print(prices[i])"
   ]
  },
  {
   "cell_type": "code",
   "execution_count": 8,
   "id": "a985ffdd",
   "metadata": {},
   "outputs": [
    {
     "name": "stdout",
     "output_type": "stream",
     "text": [
      "cinnamon bun for €2.00\n",
      "coffee for €3.60\n",
      "tomato juice for €2.90\n"
     ]
    }
   ],
   "source": [
    "for i in range(0,breakfast.size):\n",
    "    print(f\"{breakfast[i]} for €{prices[i]:.2f}\")"
   ]
  },
  {
   "cell_type": "code",
   "execution_count": 9,
   "id": "690f19a0",
   "metadata": {},
   "outputs": [],
   "source": [
    "# NumPy arrays come with functions\n",
    "# for instance, we can calculate the sum of the elements of an array:\n",
    "\n",
    "total_cost = prices.sum()"
   ]
  },
  {
   "cell_type": "code",
   "execution_count": 10,
   "id": "2e4d81f6",
   "metadata": {},
   "outputs": [
    {
     "name": "stdout",
     "output_type": "stream",
     "text": [
      "I have enough money for a cinnamon bun\n",
      "I have enough money for a tomato juice\n"
     ]
    }
   ],
   "source": [
    "# if I have €3, which breakfast items can I buy?\n",
    "\n",
    "wallet = 3\n",
    "\n",
    "for i in range(0,breakfast.size): #see also np.arange() and np.linspace()\n",
    "    if wallet >= prices[i]:\n",
    "        print(f\"I have enough money for a {breakfast[i]}\")"
   ]
  },
  {
   "cell_type": "code",
   "execution_count": 11,
   "id": "cf69e238",
   "metadata": {},
   "outputs": [
    {
     "name": "stdout",
     "output_type": "stream",
     "text": [
      "[True, False, True]\n"
     ]
    }
   ],
   "source": [
    "# for loops can be used to create lists\n",
    "which_Items_canIbuy = [wallet>p for p in prices]\n",
    "print(which_Items_canIbuy)"
   ]
  },
  {
   "cell_type": "code",
   "execution_count": 12,
   "id": "2cc33373",
   "metadata": {},
   "outputs": [
    {
     "data": {
      "text/plain": [
       "list"
      ]
     },
     "execution_count": 12,
     "metadata": {},
     "output_type": "execute_result"
    }
   ],
   "source": [
    "type(which_Items_canIbuy)"
   ]
  },
  {
   "cell_type": "code",
   "execution_count": 13,
   "id": "a2492fa9",
   "metadata": {},
   "outputs": [
    {
     "name": "stdout",
     "output_type": "stream",
     "text": [
      "[ True False  True]\n"
     ]
    },
    {
     "data": {
      "text/plain": [
       "numpy.ndarray"
      ]
     },
     "execution_count": 13,
     "metadata": {},
     "output_type": "execute_result"
    }
   ],
   "source": [
    "# and we can easily convert lists into numpy arrays\n",
    "which_Items_canIbuy = np.asarray(which_Items_canIbuy)\n",
    "print(which_Items_canIbuy)\n",
    "type(which_Items_canIbuy)"
   ]
  },
  {
   "cell_type": "code",
   "execution_count": 14,
   "id": "c28089c6",
   "metadata": {},
   "outputs": [],
   "source": [
    "# we can do mathematical operations with arrays\n",
    "\n",
    "# for instace, we might want to add a service fee to all the rpcies\n",
    "\n",
    "prices = prices + .25 # add a value to all elements of the array"
   ]
  },
  {
   "cell_type": "code",
   "execution_count": 15,
   "id": "af9a468c",
   "metadata": {},
   "outputs": [
    {
     "name": "stdout",
     "output_type": "stream",
     "text": [
      "[2.25 3.85 3.15]\n"
     ]
    }
   ],
   "source": [
    "print(prices)"
   ]
  },
  {
   "cell_type": "code",
   "execution_count": 16,
   "id": "8435f8ac",
   "metadata": {},
   "outputs": [],
   "source": [
    "# lets say that the prices went up!\n",
    "\n",
    "price_raise = prices * 0.25 # or multiply them by a factor (e.g. 25%)"
   ]
  },
  {
   "cell_type": "code",
   "execution_count": 17,
   "id": "e609f7c1",
   "metadata": {},
   "outputs": [],
   "source": [
    "# we can do mathematical operations between the elements of arrays\n",
    "\n",
    "prices = prices + price_raise # e.g. add the increase of the prices to the initial prices and update th array"
   ]
  },
  {
   "cell_type": "code",
   "execution_count": 18,
   "id": "e61bde55",
   "metadata": {},
   "outputs": [
    {
     "name": "stdout",
     "output_type": "stream",
     "text": [
      "[0.5625 0.9625 0.7875]\n",
      "[2.8125 4.8125 3.9375]\n"
     ]
    }
   ],
   "source": [
    "print(price_raise)\n",
    "print(prices)"
   ]
  },
  {
   "cell_type": "code",
   "execution_count": 19,
   "id": "796f0f3f",
   "metadata": {},
   "outputs": [
    {
     "name": "stdout",
     "output_type": "stream",
     "text": [
      "[2.81 4.81 3.94]\n"
     ]
    }
   ],
   "source": [
    "# another useful NumPy function:\n",
    "\n",
    "print(np.round(prices, 2)) # this rounds the values to the second decimal place "
   ]
  },
  {
   "cell_type": "code",
   "execution_count": 20,
   "id": "907191c0",
   "metadata": {},
   "outputs": [
    {
     "name": "stdout",
     "output_type": "stream",
     "text": [
      "[2.8125 4.8125 3.9375]\n",
      "[2.81 4.81 3.94]\n"
     ]
    }
   ],
   "source": [
    "print(prices)\n",
    "\n",
    "# some function parameters can be specified by name and not necessarily at the right position \n",
    "# this makes our code more readable\n",
    "# here we specify that the result of the rounding should be placed back in the prices array\n",
    "\n",
    "np.round(prices, out = prices, decimals=2) \n",
    "\n",
    "print(prices)"
   ]
  },
  {
   "cell_type": "code",
   "execution_count": 21,
   "id": "625aa99a",
   "metadata": {},
   "outputs": [
    {
     "name": "stdout",
     "output_type": "stream",
     "text": [
      "[2.8 4.8 3.9]\n"
     ]
    }
   ],
   "source": [
    "# alternatively we could invoke the function like this\n",
    "print(prices.round(decimals = 1))\n"
   ]
  },
  {
   "cell_type": "markdown",
   "id": "fbba5740",
   "metadata": {},
   "source": [
    "We can check if an element is in an array using the <code> in </code> operator.\n",
    "\n",
    "In fact <code> in </code> will work for many other variables, not only numpy arrays!"
   ]
  },
  {
   "cell_type": "code",
   "execution_count": 22,
   "id": "44e54bb1",
   "metadata": {},
   "outputs": [
    {
     "name": "stdout",
     "output_type": "stream",
     "text": [
      "True\n"
     ]
    }
   ],
   "source": [
    "print (\"coffee\" in breakfast)"
   ]
  },
  {
   "cell_type": "code",
   "execution_count": 23,
   "id": "d1e4e96b",
   "metadata": {},
   "outputs": [
    {
     "name": "stdout",
     "output_type": "stream",
     "text": [
      "False\n"
     ]
    }
   ],
   "source": [
    "print (\"banana\" in breakfast)"
   ]
  },
  {
   "cell_type": "code",
   "execution_count": 24,
   "id": "bdf24025",
   "metadata": {},
   "outputs": [
    {
     "name": "stdout",
     "output_type": "stream",
     "text": [
      "False\n"
     ]
    }
   ],
   "source": [
    "print (\"Coffee\" in breakfast) # the comparison is case sensitive!"
   ]
  }
 ],
 "metadata": {
  "kernelspec": {
   "display_name": "Python 3 (ipykernel)",
   "language": "python",
   "name": "python3"
  },
  "language_info": {
   "codemirror_mode": {
    "name": "ipython",
    "version": 3
   },
   "file_extension": ".py",
   "mimetype": "text/x-python",
   "name": "python",
   "nbconvert_exporter": "python",
   "pygments_lexer": "ipython3",
   "version": "3.10.4"
  }
 },
 "nbformat": 4,
 "nbformat_minor": 5
}
