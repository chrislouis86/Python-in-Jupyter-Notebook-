{
 "cells": [
  {
   "cell_type": "code",
   "execution_count": 1,
   "id": "789bab33",
   "metadata": {},
   "outputs": [
    {
     "name": "stdout",
     "output_type": "stream",
     "text": [
      "Hello George!\n"
     ]
    }
   ],
   "source": [
    "# this is a function\n",
    "# it prints on our screen Hello George!\n",
    "# you can recognise a function by the ( ) that follow after the name\n",
    "# the input parameters are passed to the function in the parantheses \n",
    "\n",
    "print(\"Hello George!\") "
   ]
  },
  {
   "cell_type": "code",
   "execution_count": 2,
   "id": "9ae71307",
   "metadata": {},
   "outputs": [],
   "source": [
    "# lets import a couple of python modules/packages\n",
    "import math # math contains a number of useful math functiosn and constants\n",
    "import numpy as np\n"
   ]
  },
  {
   "cell_type": "code",
   "execution_count": 3,
   "id": "d5c757bf",
   "metadata": {},
   "outputs": [
    {
     "name": "stdout",
     "output_type": "stream",
     "text": [
      "3.141592653589793115997963\n",
      "3.1\n"
     ]
    }
   ],
   "source": [
    "# the value of pi is stored in a math variable\n",
    "\n",
    "print(f\"{math.pi:.24f}\") \n",
    "print(f\"{math.pi:.2}\")\n"
   ]
  },
  {
   "cell_type": "code",
   "execution_count": 4,
   "id": "f9d4381f",
   "metadata": {},
   "outputs": [
    {
     "data": {
      "text/plain": [
       "3.142"
      ]
     },
     "execution_count": 4,
     "metadata": {},
     "output_type": "execute_result"
    }
   ],
   "source": [
    "# np.round() is a function with more than one input parameters\n",
    "np.round(math.pi, 3)"
   ]
  },
  {
   "cell_type": "code",
   "execution_count": 5,
   "id": "0dfea87f",
   "metadata": {},
   "outputs": [
    {
     "name": "stdout",
     "output_type": "stream",
     "text": [
      "3.14\n"
     ]
    }
   ],
   "source": [
    "# some function parameters can be specified by name at any position \n",
    "# this makes our code more readable\n",
    "# here we specify that the result of the rounding should be placed back in the prices array\n",
    "\n",
    "print (np.round(math.pi, decimals=2))\n",
    "\n"
   ]
  },
  {
   "cell_type": "code",
   "execution_count": 6,
   "id": "d1364794",
   "metadata": {},
   "outputs": [
    {
     "name": "stdout",
     "output_type": "stream",
     "text": [
      "5\n"
     ]
    }
   ],
   "source": [
    "math.pi = 5 # Attention: do not change the value of constants by mistake\n",
    "print(math.pi)"
   ]
  },
  {
   "cell_type": "markdown",
   "id": "c9006592",
   "metadata": {},
   "source": [
    "### How do we define a function?\n"
   ]
  },
  {
   "cell_type": "markdown",
   "id": "9d6eabcc",
   "metadata": {},
   "source": [
    "we can define our own functions when we have tasks that we want to perform regulalry. \n",
    "\n",
    "<b>A function is a block of code that we will invoke at a later point.\n",
    "It is not exectued at the location it is defined!</b>"
   ]
  },
  {
   "cell_type": "code",
   "execution_count": 7,
   "id": "3fcbecfb",
   "metadata": {},
   "outputs": [
    {
     "name": "stdout",
     "output_type": "stream",
     "text": [
      "Hello George\n"
     ]
    }
   ],
   "source": [
    "# a function definition starts with the keyword def followed by the name of the function\n",
    "# the input parameters are named in ()\n",
    "# as with the if and loop constructs, the first line ends with :\n",
    "# the block of code that belongs to the function follows in the next line and must be indented\n",
    "\n",
    "\n",
    "def hello (name) :              # the function hello is defined with one parameter: name\n",
    "    print(f\"Hello {name}\")      # name is used in the f string\n",
    "    \n",
    "    \n",
    "    \n",
    "hello(\"George\")                 # in this code we call the function hello\n",
    "                                # the string \"George\" is then assigned to the variable name "
   ]
  },
  {
   "cell_type": "code",
   "execution_count": 8,
   "id": "f98c9144",
   "metadata": {},
   "outputs": [
    {
     "name": "stdout",
     "output_type": "stream",
     "text": [
      "11\n"
     ]
    }
   ],
   "source": [
    "# a return statement may be used to return the result of a computation\n",
    "\n",
    "def XandYsquare(x,y):    # this function takes two input parameters\n",
    "    z = x + y**2\n",
    "    return z             # and returns one value\n",
    "\n",
    "print(XandYsquare(2,3))  # When the function is called, it is 'replaced' by the value it returns"
   ]
  },
  {
   "cell_type": "code",
   "execution_count": 9,
   "id": "a060a036",
   "metadata": {},
   "outputs": [],
   "source": [
    "# a function can return multiple values that are assinged to multiple variables\n",
    "\n",
    "def funWithMultReturns(x):\n",
    "    return 2*x, 3*x         # the multiple outputs are seperated by commas"
   ]
  },
  {
   "cell_type": "code",
   "execution_count": 10,
   "id": "c80d6289",
   "metadata": {},
   "outputs": [
    {
     "name": "stdout",
     "output_type": "stream",
     "text": [
      "10\n",
      "15\n"
     ]
    }
   ],
   "source": [
    "a,b = funWithMultReturns(5) # when calling the function we use commas to seperate the variables too\n",
    "print(a)\n",
    "print(b)"
   ]
  },
  {
   "cell_type": "markdown",
   "id": "982a3488",
   "metadata": {},
   "source": [
    "### back to the wallet example!"
   ]
  },
  {
   "cell_type": "code",
   "execution_count": 11,
   "id": "799a1283",
   "metadata": {},
   "outputs": [],
   "source": [
    "wallet = 41\n",
    "breakfast = np.array(['cinnamon bun', 'coffee', 'orange juice'])\n",
    "prices = np.array([2,3.6,2.9])"
   ]
  },
  {
   "cell_type": "code",
   "execution_count": 12,
   "id": "b3f5d239",
   "metadata": {},
   "outputs": [],
   "source": [
    "# functions can 'see' the variables that are defined in the scrpit\n",
    "\n",
    "# these variables are 'global'\n",
    "def buy(item):\n",
    "    print(f\"I have €{wallet}.\")\n",
    "    print(f\"I want a {breakfast[item]}.\")\n",
    "    print(f\"Here is €{prices[item]:.2f}.\")\n",
    "    left_with = wallet - prices[item]"
   ]
  },
  {
   "cell_type": "code",
   "execution_count": 13,
   "id": "ce3c1a9d",
   "metadata": {},
   "outputs": [
    {
     "name": "stdout",
     "output_type": "stream",
     "text": [
      "I have €41.\n",
      "I want a cinnamon bun.\n",
      "Here is €2.00.\n"
     ]
    }
   ],
   "source": [
    "buy (0)"
   ]
  },
  {
   "cell_type": "code",
   "execution_count": 14,
   "id": "7a1579ac",
   "metadata": {},
   "outputs": [
    {
     "ename": "NameError",
     "evalue": "name 'left_with' is not defined",
     "output_type": "error",
     "traceback": [
      "\u001b[0;31m---------------------------------------------------------------------------\u001b[0m",
      "\u001b[0;31mNameError\u001b[0m                                 Traceback (most recent call last)",
      "Input \u001b[0;32mIn [14]\u001b[0m, in \u001b[0;36m<cell line: 2>\u001b[0;34m()\u001b[0m\n\u001b[1;32m      1\u001b[0m \u001b[38;5;66;03m# but variables defined within the function cannot be accessed from outside\u001b[39;00m\n\u001b[0;32m----> 2\u001b[0m \u001b[38;5;28mprint\u001b[39m(\u001b[43mleft_with\u001b[49m)\n",
      "\u001b[0;31mNameError\u001b[0m: name 'left_with' is not defined"
     ]
    }
   ],
   "source": [
    "# but variables defined within the function cannot be accessed from outside\n",
    "print(left_with)"
   ]
  },
  {
   "cell_type": "code",
   "execution_count": 15,
   "id": "f20a3ed9",
   "metadata": {},
   "outputs": [],
   "source": [
    "# although th global variables can be accessed, they cannot be changed from inside the function\n",
    "# lets attempt to subtract the cost of the chosen item from our wallet\n",
    "\n",
    "def buy(item):\n",
    "    print(f\"I have €{wallet}.\")\n",
    "    print(f\"I want a {breakfast[item]}.\")\n",
    "    print(f\"Here is €{prices[item]}.\")\n",
    "    wallet = wallet - prices[item]\n",
    "    print(f\"I am left with €{wallet}.\")"
   ]
  },
  {
   "cell_type": "code",
   "execution_count": 17,
   "id": "69b94743",
   "metadata": {
    "scrolled": true
   },
   "outputs": [
    {
     "ename": "UnboundLocalError",
     "evalue": "local variable 'wallet' referenced before assignment",
     "output_type": "error",
     "traceback": [
      "\u001b[0;31m---------------------------------------------------------------------------\u001b[0m",
      "\u001b[0;31mUnboundLocalError\u001b[0m                         Traceback (most recent call last)",
      "Input \u001b[0;32mIn [17]\u001b[0m, in \u001b[0;36m<cell line: 8>\u001b[0;34m()\u001b[0m\n\u001b[1;32m      1\u001b[0m \u001b[38;5;66;03m# while the definition of the function does not produce an error \u001b[39;00m\n\u001b[1;32m      2\u001b[0m \u001b[38;5;66;03m# when calling the function we get an error\u001b[39;00m\n\u001b[1;32m      3\u001b[0m \u001b[38;5;66;03m# as the global variable wallet cannot be changed\u001b[39;00m\n\u001b[1;32m      4\u001b[0m \u001b[38;5;66;03m# python assumes that wallet inside the function is a new local variable\u001b[39;00m\n\u001b[1;32m      5\u001b[0m \u001b[38;5;66;03m# however, wallet is not assinged an initial value and therefore \u001b[39;00m\n\u001b[1;32m      6\u001b[0m \u001b[38;5;66;03m# the price of the item cannot be subtracted from it\u001b[39;00m\n\u001b[0;32m----> 8\u001b[0m \u001b[43mbuy\u001b[49m\u001b[43m(\u001b[49m\u001b[38;5;241;43m0\u001b[39;49m\u001b[43m)\u001b[49m\n",
      "Input \u001b[0;32mIn [15]\u001b[0m, in \u001b[0;36mbuy\u001b[0;34m(item)\u001b[0m\n\u001b[1;32m      4\u001b[0m \u001b[38;5;28;01mdef\u001b[39;00m \u001b[38;5;21mbuy\u001b[39m(item):\n\u001b[0;32m----> 5\u001b[0m     \u001b[38;5;28mprint\u001b[39m(\u001b[38;5;124mf\u001b[39m\u001b[38;5;124m\"\u001b[39m\u001b[38;5;124mI have €\u001b[39m\u001b[38;5;132;01m{\u001b[39;00mwallet\u001b[38;5;132;01m}\u001b[39;00m\u001b[38;5;124m.\u001b[39m\u001b[38;5;124m\"\u001b[39m)\n\u001b[1;32m      6\u001b[0m     \u001b[38;5;28mprint\u001b[39m(\u001b[38;5;124mf\u001b[39m\u001b[38;5;124m\"\u001b[39m\u001b[38;5;124mI want a \u001b[39m\u001b[38;5;132;01m{\u001b[39;00mbreakfast[item]\u001b[38;5;132;01m}\u001b[39;00m\u001b[38;5;124m.\u001b[39m\u001b[38;5;124m\"\u001b[39m)\n\u001b[1;32m      7\u001b[0m     \u001b[38;5;28mprint\u001b[39m(\u001b[38;5;124mf\u001b[39m\u001b[38;5;124m\"\u001b[39m\u001b[38;5;124mHere is €\u001b[39m\u001b[38;5;132;01m{\u001b[39;00mprices[item]\u001b[38;5;132;01m}\u001b[39;00m\u001b[38;5;124m.\u001b[39m\u001b[38;5;124m\"\u001b[39m)\n",
      "\u001b[0;31mUnboundLocalError\u001b[0m: local variable 'wallet' referenced before assignment"
     ]
    }
   ],
   "source": [
    "# while the definition of the function does not produce an error \n",
    "# when calling the function we get an error\n",
    "# as the global variable wallet cannot be changed\n",
    "# python assumes that wallet inside the function is a new local variable\n",
    "# however, wallet is not assinged an initial value and therefore \n",
    "# the price of the item cannot be subtracted from it\n",
    "\n",
    "buy(0)"
   ]
  },
  {
   "cell_type": "code",
   "execution_count": 18,
   "id": "7df966aa",
   "metadata": {
    "scrolled": true
   },
   "outputs": [
    {
     "name": "stdout",
     "output_type": "stream",
     "text": [
      "I have €41.\n",
      "I want a cinnamon bun.\n",
      "Here is €2.0.\n",
      "I am left with €39.0.\n",
      "39.0\n"
     ]
    }
   ],
   "source": [
    "# we can go arround the problem by explicitly declaring that the variable wallet is the existing global variable.\n",
    "\n",
    "def buy(item):\n",
    "    global wallet                  \n",
    "    print(f\"I have €{wallet}.\")\n",
    "    print(f\"I want a {breakfast[item]}.\")\n",
    "    print(f\"Here is €{prices[item]}.\")\n",
    "    wallet = wallet - prices[item]\n",
    "    print(f\"I am left with €{wallet}.\")\n",
    "    \n",
    "    \n",
    "    \n",
    "buy(0)\n",
    "print(wallet)"
   ]
  },
  {
   "cell_type": "markdown",
   "id": "58708b84",
   "metadata": {},
   "source": [
    "#### How about the input parameters? \n",
    "#### Can they be changed inside a function? \n",
    "#### Will these changes be reflected back to the global variables?\n",
    "#### Python has a unique answer to this questions!"
   ]
  },
  {
   "cell_type": "code",
   "execution_count": 19,
   "id": "895be332",
   "metadata": {},
   "outputs": [
    {
     "name": "stdout",
     "output_type": "stream",
     "text": [
      "[2.5   4.5   3.625]\n",
      "[2.  3.6 2.9]\n"
     ]
    }
   ],
   "source": [
    "# consider the following function \n",
    "def increase_prices(p, r):\n",
    "    v =  p * r\n",
    "    p = p + v \n",
    "    return p\n",
    "\n",
    "print(increase_prices(prices,.25))\n",
    "print(prices) # was the value of the original array changed?"
   ]
  },
  {
   "cell_type": "code",
   "execution_count": 20,
   "id": "1910aea6",
   "metadata": {},
   "outputs": [
    {
     "name": "stdout",
     "output_type": "stream",
     "text": [
      "[2.5   4.5   3.625]\n",
      "[2.5   4.5   3.625]\n"
     ]
    }
   ],
   "source": [
    "# now try this definition\n",
    "def increase_prices(p, r):\n",
    "    v =  p * r\n",
    "    p += v\n",
    "    return p\n",
    "\n",
    "print(increase_prices(prices,.25))\n",
    "print(prices) # was the value of the original array changed?"
   ]
  },
  {
   "cell_type": "markdown",
   "id": "8fddb737",
   "metadata": {},
   "source": [
    "### here is the explanation of the <i>paradox</i>!\n",
    "\n",
    "To understand the difference between the two function definitions above we must first understand what variables are in python!\n",
    "\n",
    "Variables are like containers for ojects. An array is such an object.\n",
    "\n",
    "The variables are <b><u>not</u></b> the objects. They only contain them! \n",
    "\n",
    "When a variable is passed as an input parameter to a function, what is actually given to the function  is the object contained in the variable. \n",
    "\n",
    "The function then has its own container (its own variable) to hold the object for as long the function is running.\n",
    "\n",
    "In our example, the variable <code>prices</code> contains an array which is passed to the function <code>inrease_prices</code>. The function then takes the array and puts it in its own variable <code>p</code>.\n",
    "\n",
    "In our first try, we tried to alter the array using <code> p = p + v </code>.\n",
    "\n",
    "<code> p + v </code> adds the two arrays and creates a new array for the result. The two arrays in the variables <code>p</code> or <code>v</code> are not modified... as expected! \n",
    "\n",
    "Then, the assingment operator <code>=</code> puts the newly created array into the variable <code>p</code>, throwing out of the container the array that was previously found there. \n",
    "\n",
    "Therefore, the initial array contained in <code>prices</code> is left unchanged, and <code>p</code> contains a new array.\n",
    "\n",
    "\n",
    "But what is going on in the second function definition?\n",
    "\n",
    "In the second definition, we use the <code> += </code> operator to do the same operation (add the two arrays).\n",
    "\n",
    "However, this operator just adds the elements of the array in <code>v</code> at thee end of array  <code>p</code>. It does not create a new array!\n",
    "\n",
    "The array in <code>p</code> is the same array found in <code>prices</code>. \n",
    "\n",
    "\n",
    "\n",
    "Python's approach to passing parameters to functions is called <i><b>pass-by-object-reference</b></i> and it is rather unique. More common approaches used in other languages are <i>pass-by-reference</i> and <i>pass-by-value</i>.\n",
    "</span>"
   ]
  },
  {
   "cell_type": "code",
   "execution_count": null,
   "id": "e928bba0",
   "metadata": {},
   "outputs": [],
   "source": []
  }
 ],
 "metadata": {
  "kernelspec": {
   "display_name": "Python 3 (ipykernel)",
   "language": "python",
   "name": "python3"
  },
  "language_info": {
   "codemirror_mode": {
    "name": "ipython",
    "version": 3
   },
   "file_extension": ".py",
   "mimetype": "text/x-python",
   "name": "python",
   "nbconvert_exporter": "python",
   "pygments_lexer": "ipython3",
   "version": "3.10.4"
  }
 },
 "nbformat": 4,
 "nbformat_minor": 5
}
