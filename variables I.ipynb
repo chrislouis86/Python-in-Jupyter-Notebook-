{
 "cells": [
  {
   "cell_type": "markdown",
   "metadata": {},
   "source": [
    " Programming is about two things: \n",
    "\n",
    " 1) Data and\n",
    "\n",
    " 2) How to manipulate them\n",
    "\n",
    " Data is stored in <b>variables</b> and are manipulated through <b>functions</b>.\n",
    "\n",
    " In this notebook we look at the types of data and the variables that store them."
   ]
  },
  {
   "cell_type": "markdown",
   "metadata": {},
   "source": [
    "# Variables"
   ]
  },
  {
   "cell_type": "code",
   "execution_count": 1,
   "metadata": {
    "scrolled": false
   },
   "outputs": [
    {
     "name": "stdout",
     "output_type": "stream",
     "text": [
      "41\n"
     ]
    }
   ],
   "source": [
    "# a variable is declared when it is assigned a value\n",
    "\n",
    "wallet = 41\n",
    "\n",
    "print (wallet) #functions have () after their name"
   ]
  },
  {
   "cell_type": "code",
   "execution_count": 2,
   "metadata": {},
   "outputs": [
    {
     "data": {
      "text/plain": [
       "int"
      ]
     },
     "execution_count": 2,
     "metadata": {},
     "output_type": "execute_result"
    }
   ],
   "source": [
    "#integers have no decimal places\n",
    "type(wallet)"
   ]
  },
  {
   "cell_type": "code",
   "execution_count": 3,
   "metadata": {},
   "outputs": [
    {
     "data": {
      "text/plain": [
       "float"
      ]
     },
     "execution_count": 3,
     "metadata": {},
     "output_type": "execute_result"
    }
   ],
   "source": [
    "#floats have a decimal part\n",
    "\n",
    "weight = 75.2\n",
    "type(weight)\n",
    "# the value is assingled to the variable\n",
    "# but without the print command is not displayed "
   ]
  },
  {
   "cell_type": "code",
   "execution_count": 4,
   "metadata": {},
   "outputs": [
    {
     "name": "stdout",
     "output_type": "stream",
     "text": [
      "41.5\n"
     ]
    },
    {
     "data": {
      "text/plain": [
       "float"
      ]
     },
     "execution_count": 4,
     "metadata": {},
     "output_type": "execute_result"
    }
   ],
   "source": [
    "#variables can change their type when they are assigned new values\n",
    "\n",
    "wallet = 41.5\n",
    "print(wallet)\n",
    "type(wallet)"
   ]
  },
  {
   "cell_type": "code",
   "execution_count": 5,
   "metadata": {},
   "outputs": [
    {
     "name": "stdout",
     "output_type": "stream",
     "text": [
      "3\n",
      "3.0\n",
      "3.3\n",
      "3\n"
     ]
    }
   ],
   "source": [
    "# you can specify the type by casting\n",
    "\n",
    "i = int(3)\n",
    "x = float(3) \n",
    "y = 3.3\n",
    "k = int(y)\n",
    "\n",
    "print(i)\n",
    "print(x)\n",
    "print(y)\n",
    "print(k)"
   ]
  },
  {
   "cell_type": "markdown",
   "metadata": {},
   "source": [
    "    !!! variable names can NOT start with a number and can only contain alphanumerics !!!"
   ]
  },
  {
   "cell_type": "code",
   "execution_count": 6,
   "metadata": {},
   "outputs": [
    {
     "ename": "SyntaxError",
     "evalue": "invalid decimal literal (970049325.py, line 1)",
     "output_type": "error",
     "traceback": [
      "\u001b[0;36m  Input \u001b[0;32mIn [6]\u001b[0;36m\u001b[0m\n\u001b[0;31m    1variable = 5 # that is illegal\u001b[0m\n\u001b[0m    ^\u001b[0m\n\u001b[0;31mSyntaxError\u001b[0m\u001b[0;31m:\u001b[0m invalid decimal literal\n"
     ]
    }
   ],
   "source": [
    "1variable = 5 # that is illegal"
   ]
  },
  {
   "cell_type": "code",
   "execution_count": 7,
   "metadata": {},
   "outputs": [
    {
     "name": "stdout",
     "output_type": "stream",
     "text": [
      "5\n",
      "7\n"
     ]
    }
   ],
   "source": [
    "variable1 = 5 #this is legal\n",
    "_variable1 = 7 #this is legal too\n",
    "\n",
    "#the two variables are different\n",
    "print(variable1)\n",
    "print(_variable1)"
   ]
  },
  {
   "cell_type": "code",
   "execution_count": 8,
   "metadata": {},
   "outputs": [
    {
     "name": "stdout",
     "output_type": "stream",
     "text": [
      "1 3.5 banana 1 1\n"
     ]
    }
   ],
   "source": [
    "# multiple values and multiple variables can be assigned at once\n",
    "x, y, z = 1, 3.5, \"banana\"\n",
    "i = k = 1 \n",
    "\n",
    "print(x, y, z, i, k)\n",
    "\n"
   ]
  },
  {
   "cell_type": "code",
   "execution_count": 9,
   "metadata": {},
   "outputs": [
    {
     "name": "stdout",
     "output_type": "stream",
     "text": [
      "9 46.5 263.2\n"
     ]
    }
   ],
   "source": [
    "#you can do mathematical operation with variables\n",
    "print(3+6, wallet+5, weight*y)"
   ]
  },
  {
   "cell_type": "code",
   "execution_count": 10,
   "metadata": {},
   "outputs": [
    {
     "name": "stdout",
     "output_type": "stream",
     "text": [
      "8\n"
     ]
    }
   ],
   "source": [
    "# The equality symbol does not mean the same as in math\n",
    "# it is an assignment operator\n",
    "# it assigns the result of the operations on the right to the variable on the left\n",
    "x = 2\n",
    "x = x ** 3 # assign the value of x_raised_to_the_power_of_3 to x\n",
    "print(x)"
   ]
  },
  {
   "cell_type": "code",
   "execution_count": 11,
   "metadata": {},
   "outputs": [
    {
     "name": "stdout",
     "output_type": "stream",
     "text": [
      "11\n"
     ]
    }
   ],
   "source": [
    "# there are other assignment operators:\n",
    "x += 3 # this is the same as x = x + 3\n",
    "print(x)"
   ]
  },
  {
   "cell_type": "markdown",
   "metadata": {},
   "source": [
    "### Strings\n",
    "\n",
    "A string is a essentially a sequence of characters... a text!"
   ]
  },
  {
   "cell_type": "code",
   "execution_count": 12,
   "metadata": {},
   "outputs": [],
   "source": [
    "# to decalre a string we put it in \" .. \" or  ' .. '\n",
    "first_name = \"George\"\n",
    "last_name = 'Sioros'"
   ]
  },
  {
   "cell_type": "code",
   "execution_count": 13,
   "metadata": {},
   "outputs": [
    {
     "name": "stdout",
     "output_type": "stream",
     "text": [
      "Nick's pizza is the best\n"
     ]
    }
   ],
   "source": [
    "shop = \"Nick's pizza is the best\" #if we need the apostrophe we use the double quotes\n",
    "print (shop)"
   ]
  },
  {
   "cell_type": "code",
   "execution_count": 14,
   "metadata": {},
   "outputs": [
    {
     "name": "stdout",
     "output_type": "stream",
     "text": [
      "Nick's pizza shop is the \"best\" there is\n"
     ]
    }
   ],
   "source": [
    "# use \\ infront of quotes to include them in the string\n",
    "shop = \"Nick's pizza shop is the \\\"best\\\" there is\"\n",
    "print(shop)"
   ]
  },
  {
   "cell_type": "code",
   "execution_count": 15,
   "metadata": {},
   "outputs": [
    {
     "name": "stdout",
     "output_type": "stream",
     "text": [
      "Today is 23 of October and the temperature is 20C\n"
     ]
    }
   ],
   "source": [
    "# formating string with variables\n",
    "\n",
    "day = 23\n",
    "month = 'October'\n",
    "temp = 20\n",
    "\n",
    "# an f string is preceded by the letter f\n",
    "# we can include variables within the string by placing them in { }\n",
    "print(f\"Today is {day} of {month} and the temperature is {temp}C\")"
   ]
  },
  {
   "cell_type": "code",
   "execution_count": 16,
   "metadata": {},
   "outputs": [
    {
     "name": "stdout",
     "output_type": "stream",
     "text": [
      "Today is 23 of October and the temperature is 20C\n"
     ]
    }
   ],
   "source": [
    "# or using the format() function\n",
    "my_text = \"Today is {} of {} and the temperature is {}C\".format(day, month, temp)\n",
    "print(my_text)"
   ]
  },
  {
   "cell_type": "code",
   "execution_count": 17,
   "metadata": {},
   "outputs": [
    {
     "name": "stdout",
     "output_type": "stream",
     "text": [
      "This avocado costs only 1.50 euros! This avocado is cheap\n"
     ]
    }
   ],
   "source": [
    "# here is a more complex example:\n",
    "fruit = \"avocado\"\n",
    "my_text = \"This {0} costs only {1:.2f} euros! This {0} is {2}\".format(fruit, 1.5, \"cheap\")\n",
    "# note the . between the string and the function? String is a pyhton class and format is member function.\n",
    "# we will learn more about classes and objects later!\n",
    "print(my_text)"
   ]
  },
  {
   "cell_type": "code",
   "execution_count": 18,
   "metadata": {},
   "outputs": [
    {
     "name": "stdout",
     "output_type": "stream",
     "text": [
      "This is the first line\n",
      "And here is the second\n",
      "They are seperated by a \\n\n"
     ]
    }
   ],
   "source": [
    "#there are some special characters called escape characters\n",
    "my_text_in_twolines = \"This is the first line\\nAnd here is the second\\nThey are seperated by a \\\\n\"\n",
    "print(my_text_in_twolines)\n"
   ]
  },
  {
   "cell_type": "code",
   "execution_count": 19,
   "metadata": {},
   "outputs": [
    {
     "name": "stdout",
     "output_type": "stream",
     "text": [
      "abcde\n",
      "gggg\n"
     ]
    }
   ],
   "source": [
    "#there are simple operations we can perform with strings:\n",
    "print(\"abc\" + \"de\")\n",
    "print(\"g\"*4)"
   ]
  },
  {
   "cell_type": "markdown",
   "metadata": {},
   "source": [
    "### Booleans, comparisons and control statements"
   ]
  },
  {
   "cell_type": "code",
   "execution_count": 20,
   "metadata": {},
   "outputs": [
    {
     "name": "stdout",
     "output_type": "stream",
     "text": [
      "False\n",
      "False\n",
      "True\n"
     ]
    }
   ],
   "source": [
    "# we can compare values using the comparison operators\n",
    "print(2 > 5)\n",
    "print(2 == 5) # the double equality symbol is a comparison operator \n",
    "print(2 < 5)"
   ]
  },
  {
   "cell_type": "code",
   "execution_count": 21,
   "metadata": {},
   "outputs": [],
   "source": [
    "# the result of a comparison is a special type called boolean\n",
    "# boolean values can be assigned to variables\n",
    "\n",
    "light_is_on = False"
   ]
  },
  {
   "cell_type": "code",
   "execution_count": 22,
   "metadata": {},
   "outputs": [
    {
     "name": "stdout",
     "output_type": "stream",
     "text": [
      "but it is always a light\n"
     ]
    }
   ],
   "source": [
    "# we can use boolean values to control the sequence of python statements to be executed\n",
    "\n",
    "if light_is_on : \n",
    "    print(\"light is on\")\n",
    "    print(\"not off\")\n",
    "    \n",
    "print(\"but it is always a light\")"
   ]
  },
  {
   "cell_type": "markdown",
   "metadata": {},
   "source": [
    "Note the syntax of the if statement.\n",
    "\n",
    "The first line starts with <code>if</code> followed by the condition and ends with <code>:</code>\n",
    "\n",
    "The following lines that are to be executed only if the condition is <code>true</code> are indented."
   ]
  },
  {
   "cell_type": "code",
   "execution_count": 23,
   "metadata": {},
   "outputs": [
    {
     "name": "stdout",
     "output_type": "stream",
     "text": [
      "off\n"
     ]
    }
   ],
   "source": [
    "if light_is_on :\n",
    "    print (\"on\")\n",
    "elif not light_is_on :\n",
    "    print (\"off\")"
   ]
  },
  {
   "cell_type": "code",
   "execution_count": 24,
   "metadata": {},
   "outputs": [
    {
     "name": "stdout",
     "output_type": "stream",
     "text": [
      "just text\n"
     ]
    }
   ],
   "source": [
    "#certain functions return bool. For example:\n",
    "\n",
    "x = \"just text\"\n",
    "if isinstance(x,int):\n",
    "    print(x +5)\n",
    "elif isinstance(x,str):\n",
    "    print(x)\n"
   ]
  },
  {
   "cell_type": "markdown",
   "metadata": {},
   "source": [
    "## Lists\n",
    "\n",
    "Lists can store multiple values in a single variable."
   ]
  },
  {
   "cell_type": "code",
   "execution_count": 25,
   "metadata": {},
   "outputs": [
    {
     "name": "stdout",
     "output_type": "stream",
     "text": [
      "2\n"
     ]
    }
   ],
   "source": [
    "list_of_numbers = [1, 2, 5, 3, 8] # declaring a list\n",
    "\n",
    "# list are ordered so that we can access their elements based on their position in the list\n",
    "print(list_of_numbers[1]) # first element is at index 0!!"
   ]
  },
  {
   "cell_type": "code",
   "execution_count": 26,
   "metadata": {},
   "outputs": [
    {
     "name": "stdout",
     "output_type": "stream",
     "text": [
      "[5, 3]\n"
     ]
    }
   ],
   "source": [
    "# accesing a range of elements \n",
    "print(list_of_numbers[2:4]) #excluding the last index!"
   ]
  },
  {
   "cell_type": "code",
   "execution_count": 27,
   "metadata": {},
   "outputs": [
    {
     "name": "stdout",
     "output_type": "stream",
     "text": [
      "[5, 3]\n"
     ]
    }
   ],
   "source": [
    "print(list_of_numbers[-3:-1]) #negative indeces count from the end"
   ]
  },
  {
   "cell_type": "code",
   "execution_count": 28,
   "metadata": {},
   "outputs": [],
   "source": [
    "# lists include functions to manipulate them and their elements\n",
    "# for example we can append new elements \n",
    "\n",
    "list_of_numbers.append([10, 5])"
   ]
  },
  {
   "cell_type": "code",
   "execution_count": 29,
   "metadata": {},
   "outputs": [
    {
     "name": "stdout",
     "output_type": "stream",
     "text": [
      "[1, 2, 5, 3, 8, [10, 5]]\n"
     ]
    }
   ],
   "source": [
    "print(list_of_numbers)"
   ]
  },
  {
   "cell_type": "code",
   "execution_count": 30,
   "metadata": {},
   "outputs": [],
   "source": [
    "list_of_numbers.extend([2,3])"
   ]
  },
  {
   "cell_type": "code",
   "execution_count": 31,
   "metadata": {},
   "outputs": [
    {
     "name": "stdout",
     "output_type": "stream",
     "text": [
      "[1, 2, 5, 3, 8, [10, 5], 2, 3]\n"
     ]
    }
   ],
   "source": [
    "print(list_of_numbers)"
   ]
  },
  {
   "cell_type": "code",
   "execution_count": 32,
   "metadata": {},
   "outputs": [],
   "source": [
    "# or delete elements\n",
    "del(list_of_numbers[5])"
   ]
  },
  {
   "cell_type": "code",
   "execution_count": 33,
   "metadata": {},
   "outputs": [
    {
     "name": "stdout",
     "output_type": "stream",
     "text": [
      "[1, 2, 5, 3, 8, 2, 3]\n"
     ]
    }
   ],
   "source": [
    "print(list_of_numbers)"
   ]
  },
  {
   "cell_type": "code",
   "execution_count": 34,
   "metadata": {
    "scrolled": false
   },
   "outputs": [
    {
     "name": "stdout",
     "output_type": "stream",
     "text": [
      "[1, 2, 2, 3, 3, 5, 8]\n"
     ]
    }
   ],
   "source": [
    "# or sort their elements\n",
    "list_of_numbers.sort()\n",
    "print(list_of_numbers)"
   ]
  },
  {
   "cell_type": "code",
   "execution_count": 35,
   "metadata": {},
   "outputs": [],
   "source": [
    "list_of_numbers = list_of_numbers + [12, 9] # the + opertor does not do arithmetics. It concatenates lists!"
   ]
  },
  {
   "cell_type": "code",
   "execution_count": 36,
   "metadata": {},
   "outputs": [
    {
     "name": "stdout",
     "output_type": "stream",
     "text": [
      "[1, 2, 2, 3, 3, 5, 8, 12, 9]\n"
     ]
    }
   ],
   "source": [
    "print(list_of_numbers)"
   ]
  },
  {
   "cell_type": "markdown",
   "metadata": {},
   "source": [
    "## Dictionaries\n",
    "\n",
    "Dictionaries are a different way to store multiple values in a single variable.\n",
    "In contrast to lists, dictionaries are a set of associations and are not ordered. "
   ]
  },
  {
   "cell_type": "code",
   "execution_count": 37,
   "metadata": {},
   "outputs": [
    {
     "name": "stdout",
     "output_type": "stream",
     "text": [
      "5\n"
     ]
    }
   ],
   "source": [
    "cats_age = {\"tom\":3, \"jane\":5, \"mike\": 10}\n",
    "print(cats_age[\"jane\"]) #case sensitive"
   ]
  },
  {
   "cell_type": "code",
   "execution_count": 38,
   "metadata": {},
   "outputs": [
    {
     "name": "stdout",
     "output_type": "stream",
     "text": [
      "{'tom': 3, 'jane': 5, 'mike': 10, 'wilson': 8}\n"
     ]
    }
   ],
   "source": [
    "cats_age[\"wilson\"] = 8\n",
    "print(cats_age)"
   ]
  },
  {
   "cell_type": "code",
   "execution_count": 39,
   "metadata": {},
   "outputs": [],
   "source": [
    "a_dict = {1:\"first string\", 2:5, \"three\":[1, 2, 3]}"
   ]
  },
  {
   "cell_type": "code",
   "execution_count": 40,
   "metadata": {
    "scrolled": true
   },
   "outputs": [
    {
     "name": "stdout",
     "output_type": "stream",
     "text": [
      "[1, 2, 3]\n"
     ]
    }
   ],
   "source": [
    "print(a_dict[\"three\"])"
   ]
  },
  {
   "cell_type": "code",
   "execution_count": 41,
   "metadata": {},
   "outputs": [
    {
     "name": "stdout",
     "output_type": "stream",
     "text": [
      "5\n"
     ]
    }
   ],
   "source": [
    "print(a_dict[2])"
   ]
  }
 ],
 "metadata": {
  "kernelspec": {
   "display_name": "Python 3 (ipykernel)",
   "language": "python",
   "name": "python3"
  },
  "language_info": {
   "codemirror_mode": {
    "name": "ipython",
    "version": 3
   },
   "file_extension": ".py",
   "mimetype": "text/x-python",
   "name": "python",
   "nbconvert_exporter": "python",
   "pygments_lexer": "ipython3",
   "version": "3.10.4"
  }
 },
 "nbformat": 4,
 "nbformat_minor": 2
}
