{
 "cells": [
  {
   "cell_type": "code",
   "execution_count": 1,
   "id": "627e7506",
   "metadata": {},
   "outputs": [
    {
     "name": "stdout",
     "output_type": "stream",
     "text": [
      "False\n"
     ]
    }
   ],
   "source": [
    "print( 5 > 6 )"
   ]
  },
  {
   "cell_type": "markdown",
   "id": "c80f1604",
   "metadata": {},
   "source": [
    "True / False values are booleans"
   ]
  },
  {
   "cell_type": "markdown",
   "id": "98958bdc",
   "metadata": {},
   "source": [
    "### Flow control statements\n",
    "\n",
    "\n",
    "<code>if ... else ... </code> constructs alow us to control which python statements are executed based on booleans. \n",
    "\n",
    "<code>if</code> and <code>else</code> lines end with <code>:</code>\n",
    "\n",
    "The code block that belongs to them is indented!"
   ]
  },
  {
   "cell_type": "code",
   "execution_count": 17,
   "id": "e5fb3f4f",
   "metadata": {},
   "outputs": [],
   "source": [
    "wallet = 41 #I have £41 in my wallet\n",
    "\n",
    "breakfast1 = \"cinnamon bun\"\n",
    "breakfast1_price = 3 # the cinnamon bun costs £3\n",
    "\n",
    "breakfast2 = \"coffee\"\n",
    "breakfast2_price = 3.6 # coffee costs £3.6"
   ]
  },
  {
   "cell_type": "code",
   "execution_count": 20,
   "id": "cd9494de",
   "metadata": {},
   "outputs": [
    {
     "name": "stdout",
     "output_type": "stream",
     "text": [
      "I do not have enough money for breakfast :(\n"
     ]
    }
   ],
   "source": [
    "cost_of_breakfast = breakfast1_price + breakfast2_price # cost of breakfast for a coffe and a cinnamon bun\n",
    "\n",
    "if wallet>cost_of_breakfast:\n",
    "    print(\"I have enough money for breakfast!\")\n",
    "else:\n",
    "    print(\"I do not have enough money for breakfast :(\")"
   ]
  },
  {
   "cell_type": "code",
   "execution_count": 19,
   "id": "759d99bf",
   "metadata": {},
   "outputs": [
    {
     "name": "stdout",
     "output_type": "stream",
     "text": [
      "I do not have enough money for breakfast :(\n",
      "I have enough money for a cinnamon bun\n"
     ]
    }
   ],
   "source": [
    "# if constructs can be nested one inside another. Indentation is important!\n",
    "\n",
    "wallet = 3.2\n",
    "if wallet>cost_of_breakfast:\n",
    "    print(\"I have enough money for breakfast!\")\n",
    "else:\n",
    "    print(\"I do not have enough money for breakfast :(\")\n",
    "    if wallet > breakfast1_price:\n",
    "        print(f\"I have enough money for a {breakfast1}\")\n",
    "        \n",
    "    if wallet > breakfast2_price:\n",
    "        print(f\"I have enough money for a {breakfast2}\")"
   ]
  },
  {
   "cell_type": "markdown",
   "id": "c7828cc0",
   "metadata": {},
   "source": [
    "## loops\n",
    "\n",
    "Loops also use booleans to decide if a block code is going to be executed or not. However, in contrast to if constructs, loops allow for the code to be executed many times and not just once."
   ]
  },
  {
   "cell_type": "code",
   "execution_count": 23,
   "id": "4cf27268",
   "metadata": {},
   "outputs": [
    {
     "name": "stdout",
     "output_type": "stream",
     "text": [
      "I have €41. \n",
      "I can go for breakfast 6 times and I will be left with €1.40.\n"
     ]
    }
   ],
   "source": [
    "# lets see how many times I can buy breakfast \n",
    "\n",
    "wallet = 41 #I have £41 in my wallet\n",
    "\n",
    "money_left = wallet # we use a new variable to store temporarily the amount that is left after each breakfast\n",
    "i = 0 # i counts the times that I payed for breakfast\n",
    "\n",
    "# we can use a 'while loop' to repeat a certain statement many times\n",
    "\n",
    "\n",
    "while (money_left>cost_of_breakfast):    #while there is still enough money do the following:\n",
    "    money_left -= cost_of_breakfast      #reduce the amount in the wallet\n",
    "    i += 1                        #increase the number of payments completed\n",
    "else:                             #the while loops gets also an else statement when the while condition is not true\n",
    "    print (f\"I have €{wallet}. \\nI can go for breakfast {i} times and I will be left with €{money_left:.2f}.\")\n",
    "\n",
    "# note the similar syntax with the if construct. \n",
    "# In both, the first line ends with : \n",
    "# The bock of code that is to be executed is indented"
   ]
  },
  {
   "cell_type": "markdown",
   "id": "6c65619a",
   "metadata": {},
   "source": [
    "Alternatively, we could use the modulo mathematical operator <code>%</code>"
   ]
  },
  {
   "cell_type": "code",
   "execution_count": 24,
   "id": "84266dbf",
   "metadata": {},
   "outputs": [
    {
     "name": "stdout",
     "output_type": "stream",
     "text": [
      "I have €41. \n",
      "I can go for breakfast 6 times and I will be left with €1.40.\n"
     ]
    }
   ],
   "source": [
    "left_in_wallet = wallet % cost_of_breakfast \n",
    "\n",
    "#divide the money in the wallet with the cost of the breakfast and truncate the reuslt\n",
    "number_of_times = (int(wallet / cost_of_breakfast))  \n",
    "\n",
    "print (f\"I have €{wallet}. \\nI can go for breakfast {number_of_times} times and I will be left with €{left_in_wallet:.2f}.\")\n"
   ]
  },
  {
   "cell_type": "code",
   "execution_count": 25,
   "id": "8b5fd968",
   "metadata": {},
   "outputs": [
    {
     "data": {
      "text/plain": [
       "False"
      ]
     },
     "execution_count": 25,
     "metadata": {},
     "output_type": "execute_result"
    }
   ],
   "source": [
    "# are the two methods equivalent ?\n",
    "# is the result of the two calculations the same?\n",
    "left_in_wallet == money_left"
   ]
  },
  {
   "cell_type": "code",
   "execution_count": 26,
   "id": "4435ebe7",
   "metadata": {},
   "outputs": [
    {
     "name": "stdout",
     "output_type": "stream",
     "text": [
      "1.3999999999999968\n",
      "1.4000000000000021\n"
     ]
    }
   ],
   "source": [
    "# the two calculations result in slightly different results because of floating point operations.\n",
    "print(money_left)\n",
    "print(left_in_wallet)"
   ]
  },
  {
   "cell_type": "code",
   "execution_count": 27,
   "id": "8d83d135",
   "metadata": {},
   "outputs": [
    {
     "data": {
      "text/plain": [
       "True"
      ]
     },
     "execution_count": 27,
     "metadata": {},
     "output_type": "execute_result"
    }
   ],
   "source": [
    "# to properly compare them we need to know how small differences are we willing to ignore\n",
    "abs(left_in_wallet - money_left) < 0.01"
   ]
  },
  {
   "cell_type": "markdown",
   "id": "af6ff768",
   "metadata": {},
   "source": [
    "There are several boolean operators in python besides ones above.\n",
    "\n",
    "Lets have a look at them."
   ]
  },
  {
   "cell_type": "code",
   "execution_count": 12,
   "id": "76aea409",
   "metadata": {},
   "outputs": [],
   "source": [
    "# first we need some variables to compare \n",
    "\n",
    "x = 5\n",
    "y = 3\n",
    "z = 5\n"
   ]
  },
  {
   "cell_type": "code",
   "execution_count": 13,
   "id": "5655a526",
   "metadata": {},
   "outputs": [
    {
     "name": "stdout",
     "output_type": "stream",
     "text": [
      "False\n",
      "True\n"
     ]
    }
   ],
   "source": [
    "print(x == y) # the double = checks for equality\n",
    "print(z == x)"
   ]
  },
  {
   "cell_type": "code",
   "execution_count": 14,
   "id": "a895cb11",
   "metadata": {},
   "outputs": [
    {
     "name": "stdout",
     "output_type": "stream",
     "text": [
      "True\n"
     ]
    }
   ],
   "source": [
    "print(x != y) # the != checks if two things are not equal"
   ]
  },
  {
   "cell_type": "code",
   "execution_count": 15,
   "id": "2521e83a",
   "metadata": {},
   "outputs": [
    {
     "name": "stdout",
     "output_type": "stream",
     "text": [
      "True True\n"
     ]
    }
   ],
   "source": [
    "print (x >= y, x <=z)"
   ]
  },
  {
   "cell_type": "markdown",
   "id": "c21c38c3",
   "metadata": {},
   "source": [
    "We can also combine condition using the <code> and </code>, <code> or </code> and <code> not </code> operators."
   ]
  },
  {
   "cell_type": "code",
   "execution_count": 16,
   "id": "5c62ebd9",
   "metadata": {},
   "outputs": [
    {
     "name": "stdout",
     "output_type": "stream",
     "text": [
      "True\n",
      "False\n"
     ]
    }
   ],
   "source": [
    "print ( x == z and y < z)\n",
    "print ( x == z and y == z)"
   ]
  },
  {
   "cell_type": "code",
   "execution_count": 17,
   "id": "02b9b6f2",
   "metadata": {},
   "outputs": [
    {
     "name": "stdout",
     "output_type": "stream",
     "text": [
      "False\n"
     ]
    }
   ],
   "source": [
    "print ( x == z and not (z > y or z < x)) # we can create complex conditions!"
   ]
  }
 ],
 "metadata": {
  "kernelspec": {
   "display_name": "Python 3 (ipykernel)",
   "language": "python",
   "name": "python3"
  },
  "language_info": {
   "codemirror_mode": {
    "name": "ipython",
    "version": 3
   },
   "file_extension": ".py",
   "mimetype": "text/x-python",
   "name": "python",
   "nbconvert_exporter": "python",
   "pygments_lexer": "ipython3",
   "version": "3.10.4"
  }
 },
 "nbformat": 4,
 "nbformat_minor": 5
}
