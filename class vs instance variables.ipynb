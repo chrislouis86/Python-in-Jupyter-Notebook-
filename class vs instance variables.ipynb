{
 "cells": [
  {
   "cell_type": "markdown",
   "id": "d70466cf",
   "metadata": {},
   "source": [
    "## What are Class and Instance variables and how do they differ?\n",
    "\n",
    "In Object oriented programming, member variables of classes can be of two types: Class variables and Instance variables. \n",
    "\n",
    "Class variables are shared between all objects of a class. In contrast, each instance of a class (each object) may define its own Instance variables with unique values independently of the other instances.\n"
   ]
  },
  {
   "cell_type": "code",
   "execution_count": 1,
   "id": "637c9344",
   "metadata": {},
   "outputs": [],
   "source": [
    "#Here is an example:\n",
    "\n",
    "#the human class includes the Class variable number_of_fingers shared between all human objects\n",
    "#and also an Instance variable (__h) that stores the individual height of each human\n",
    "\n",
    "class human():   \n",
    "    \n",
    "    #this is a Class member because it is NOT defined through a reference to the an instance/oject (e.g. self) and\n",
    "    #therefore it is shared between all instances/objects of the class human\n",
    "    number_of_fingers = 10 \n",
    "    \n",
    "    \n",
    "    def __init__(self, height):\n",
    "        self.__h = height # __h is an Instance member because it is defined through an object reference (self)\n",
    "              \n",
    "    def getHeight(self):\n",
    "        return self.__h\n",
    "    \n",
    "    def getHumanfingers(self):\n",
    "        return human.number_of_fingers #\n",
    "    \n",
    "    def getMyfingers(self):\n",
    "        return self.number_of_fingers #\n",
    "    \n"
   ]
  },
  {
   "cell_type": "code",
   "execution_count": 2,
   "id": "786e24e3",
   "metadata": {},
   "outputs": [],
   "source": [
    "#lets make three humans with different heights\n",
    "\n",
    "Sam = human(1.75) \n",
    "Taylor = human(1.7)\n",
    "River = human(1.65)\n"
   ]
  },
  {
   "cell_type": "code",
   "execution_count": 3,
   "id": "f99c3e90",
   "metadata": {},
   "outputs": [
    {
     "name": "stdout",
     "output_type": "stream",
     "text": [
      "1.75 1.7 1.65\n"
     ]
    }
   ],
   "source": [
    "print(Sam.getHeight(), Taylor.getHeight(), River.getHeight())"
   ]
  },
  {
   "cell_type": "code",
   "execution_count": 4,
   "id": "183ebbe7",
   "metadata": {},
   "outputs": [
    {
     "name": "stdout",
     "output_type": "stream",
     "text": [
      "11 10 10 10\n"
     ]
    }
   ],
   "source": [
    "#although most humans have 10 fingers, Alex was born with 11!\n",
    "\n",
    "Alex.number_of_fingers = 11\n",
    "print(Alex.number_of_fingers, Taylor.number_of_fingers, River.number_of_fingers, human.number_of_fingers)"
   ]
  },
  {
   "cell_type": "markdown",
   "id": "6c513611",
   "metadata": {},
   "source": [
    "The name <code>number_of_fingers</code> was (re)defined through the object reference <code>Alex</code>. Therefore <code>number_of_fingers</code> became an Instance varirable of the object <code>Alex</code>. \n",
    "\n",
    "However, the other two objects, <code>Taylor</code> and <code>River</code>, still share the same Class variable, which can also be accessed directly through  the name of the class (<code>human.number_of_fingers</code>)"
   ]
  },
  {
   "cell_type": "code",
   "execution_count": 5,
   "id": "d84b81f3",
   "metadata": {},
   "outputs": [
    {
     "name": "stdout",
     "output_type": "stream",
     "text": [
      "10\n",
      "11\n"
     ]
    }
   ],
   "source": [
    "print(Alex.getHumanfingers())\n",
    "print(Alex.getMyfingers())"
   ]
  },
  {
   "cell_type": "markdown",
   "id": "0a9cf05a",
   "metadata": {},
   "source": [
    "You may think of Class variables as something an object inherits from its 'parent', the class from which it is created. In our example, all three <code>human</code> ojects inherit the same <code>number_of_fingers</code>. However, once a particular object defines an Instance variable with the same name, the Instance variable 'shadows' the Class variable. In our example, Alex defined a new <code>number_of_fingers</code> variable with a different value than the Calss variables shared among the <code>human</code> objects.\n",
    "\n",
    "Such use cases are relatively rare, and most of the times we use Instance variables. "
   ]
  },
  {
   "cell_type": "markdown",
   "id": "9610723f",
   "metadata": {},
   "source": [
    "## The Borg Collective\n",
    "\n",
    "There is one particular use case that deserves a seperate mention.\n",
    "\n",
    "Sometimes, we want to create a class that all its instances are identical or a class of which we intend to create only one instance. Like the Borgs (yes, this is a Star-Trek reference for those who are wondering), all objects should share the same state. There are no individuals in the collective!\n",
    "\n",
    "We explore this very particular case below."
   ]
  },
  {
   "cell_type": "code",
   "execution_count": 6,
   "id": "f651787b",
   "metadata": {},
   "outputs": [],
   "source": [
    "#The Borg design!\n",
    "\n",
    "class Borg:\n",
    "    \n",
    "    #all member variables are stored in a dictionary structure called self.__dict__ \n",
    "    #the Borg design forces all instances of a class to refer to the same dictionary\n",
    "    \n",
    "    __shared_state = {} #an empty Class member of type dictionary is defined as private\n",
    "    \n",
    "    def __init__(self):\n",
    "        #in the constructor, the __dict__ of each instance is bound to the Class member dictionary\n",
    "        #before any variable is defined\n",
    "        self.__dict__ = self.__shared_state\n",
    "        \n",
    "        #in this way, any Instance variables defined will be stored in the shared dictionary\n",
    "        #altering the state of any object of the same class\n",
    "        self.__v1 = 101\n",
    "        self.v2 = 102\n",
    "        \n",
    "   \n",
    "    def setV1(self, v):\n",
    "        self.__v1 = v\n",
    "        \n",
    "    def getV1(self):\n",
    "        return self.__v1"
   ]
  },
  {
   "cell_type": "code",
   "execution_count": 7,
   "id": "01446452",
   "metadata": {},
   "outputs": [],
   "source": [
    "# try it out!\n",
    "b1 = Borg()\n",
    "b2 = Borg()"
   ]
  },
  {
   "cell_type": "code",
   "execution_count": 8,
   "id": "ae4149dd",
   "metadata": {},
   "outputs": [
    {
     "name": "stdout",
     "output_type": "stream",
     "text": [
      "110 110\n",
      "105 105\n"
     ]
    }
   ],
   "source": [
    "#both Borgs share the same values\n",
    "#Changes in one Borg is direclty reflected on all Borgs!\n",
    "b1.v2 = 105\n",
    "b2.setV1(110)\n",
    "print(b1.getV1(), b2.getV1())\n",
    "print(b1.v2, b2.v2)"
   ]
  }
 ],
 "metadata": {
  "kernelspec": {
   "display_name": "Python 3 (ipykernel)",
   "language": "python",
   "name": "python3"
  },
  "language_info": {
   "codemirror_mode": {
    "name": "ipython",
    "version": 3
   },
   "file_extension": ".py",
   "mimetype": "text/x-python",
   "name": "python",
   "nbconvert_exporter": "python",
   "pygments_lexer": "ipython3",
   "version": "3.10.4"
  }
 },
 "nbformat": 4,
 "nbformat_minor": 5
}
