{
 "cells": [
  {
   "cell_type": "markdown",
   "id": "109348cb",
   "metadata": {},
   "source": [
    "## Python variables are....!"
   ]
  },
  {
   "cell_type": "code",
   "execution_count": 1,
   "id": "72f2fb64",
   "metadata": {},
   "outputs": [
    {
     "name": "stdout",
     "output_type": "stream",
     "text": [
      "1\n"
     ]
    }
   ],
   "source": [
    "A = 1\n",
    "\n",
    "B = A\n",
    "\n",
    "B = B + 1\n",
    "\n",
    "print(A)"
   ]
  },
  {
   "cell_type": "code",
   "execution_count": 2,
   "id": "c920599f",
   "metadata": {},
   "outputs": [
    {
     "name": "stdout",
     "output_type": "stream",
     "text": [
      "[2]\n"
     ]
    }
   ],
   "source": [
    "listA = [1]\n",
    "\n",
    "listB = listA\n",
    "\n",
    "listB[0] = listB[0] + 1\n",
    "\n",
    "print (listA)"
   ]
  },
  {
   "cell_type": "code",
   "execution_count": 3,
   "id": "d65b792f",
   "metadata": {},
   "outputs": [],
   "source": [
    "import numpy as np"
   ]
  },
  {
   "cell_type": "code",
   "execution_count": 4,
   "id": "d86553bf",
   "metadata": {},
   "outputs": [
    {
     "name": "stdout",
     "output_type": "stream",
     "text": [
      "[2]\n"
     ]
    }
   ],
   "source": [
    "arrayA = np.array([1]) \n",
    "\n",
    "arrayB = arrayA \n",
    "\n",
    "arrayB[0] = arrayB[0] + 1\n",
    "\n",
    "print(arrayA)"
   ]
  },
  {
   "cell_type": "markdown",
   "id": "eabddfbc",
   "metadata": {},
   "source": [
    "Can you explain why the integer variables A and B behave differently than lists or arrays?\n",
    "\n",
    "You might be tempted to answer 'becasue integers are primitive types, while lists and arrays are objects'.\n",
    "\n",
    "Try <code>isinstance(A, object)</code>."
   ]
  },
  {
   "cell_type": "code",
   "execution_count": 5,
   "id": "c54e2e80",
   "metadata": {},
   "outputs": [
    {
     "data": {
      "text/plain": [
       "True"
      ]
     },
     "execution_count": 5,
     "metadata": {},
     "output_type": "execute_result"
    }
   ],
   "source": [
    "isinstance(A, object)"
   ]
  },
  {
   "cell_type": "markdown",
   "id": "b24433a9",
   "metadata": {},
   "source": [
    "While everything in python is an object, and that includes all numbers, some objects are changeable (the technical term is mutable) while other can not be changed (immutable).\n",
    "\n",
    "All objects have three attributes:\n",
    "\n",
    "<b>id</b>: the location (address) in the physical memory of our computer where the object is found\n",
    "\n",
    "<b>type</b>: what kind of object it is\n",
    "\n",
    "<b>value</b>: the data it holds\n",
    "\n",
    "Both id and type are attributes that cannot be changed once an object is created.\n",
    "\n",
    "However, the value can be changed for some objects while for others it cannot!\n"
   ]
  },
  {
   "cell_type": "code",
   "execution_count": 6,
   "id": "4584b8b7",
   "metadata": {},
   "outputs": [
    {
     "name": "stdout",
     "output_type": "stream",
     "text": [
      "4300816624 4300816624\n"
     ]
    }
   ],
   "source": [
    "A = 1\n",
    "B = A\n",
    "\n",
    "print(id(A), id(B)) # at this both variables A and B contain the same object"
   ]
  },
  {
   "cell_type": "code",
   "execution_count": 7,
   "id": "1118ebc3",
   "metadata": {},
   "outputs": [
    {
     "name": "stdout",
     "output_type": "stream",
     "text": [
      "4300816624 4300816656\n"
     ]
    }
   ],
   "source": [
    "B = B + 1\n",
    "\n",
    "print(id(A), id(B)) "
   ]
  },
  {
   "cell_type": "markdown",
   "id": "dc13cc6b",
   "metadata": {},
   "source": [
    "Integers are immutable, and their value cannot be changed.\n",
    "\n",
    "Therefore, the result of the calculation <code>B + 1</code> is not merely a new value but in fact a new object!"
   ]
  },
  {
   "cell_type": "code",
   "execution_count": 9,
   "id": "3eee809b",
   "metadata": {},
   "outputs": [
    {
     "name": "stdout",
     "output_type": "stream",
     "text": [
      "4804316096 [1]\n",
      "4804316096 [1, 2]\n"
     ]
    }
   ],
   "source": [
    "listA = [1]\n",
    "\n",
    "print(id(listA),listA)\n",
    "\n",
    "listA.append(2)\n",
    "\n",
    "print(id(listA),listA)\n"
   ]
  },
  {
   "cell_type": "markdown",
   "id": "a7cd421f",
   "metadata": {},
   "source": [
    "The above code shows that lists can be changed. Unlike integers, when changing a list we do not create a new list but instead the same list mutates, as indicated by the fact that both lists have the same address. "
   ]
  }
 ],
 "metadata": {
  "kernelspec": {
   "display_name": "Python 3 (ipykernel)",
   "language": "python",
   "name": "python3"
  },
  "language_info": {
   "codemirror_mode": {
    "name": "ipython",
    "version": 3
   },
   "file_extension": ".py",
   "mimetype": "text/x-python",
   "name": "python",
   "nbconvert_exporter": "python",
   "pygments_lexer": "ipython3",
   "version": "3.10.4"
  }
 },
 "nbformat": 4,
 "nbformat_minor": 5
}
