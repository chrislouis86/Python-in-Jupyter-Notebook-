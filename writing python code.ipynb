{
 "cells": [
  {
   "cell_type": "markdown",
   "id": "0cadb312",
   "metadata": {},
   "source": [
    "## Writing Python code\n",
    "\n",
    "There are a few important elements in the pyhton language that one should always keep in mind."
   ]
  },
  {
   "cell_type": "markdown",
   "id": "59e193ce",
   "metadata": {},
   "source": [
    "#### 1) Python statements are usually written in a single line\n",
    "\n",
    "However, we can split a statement into mulitple lines. \n",
    "\n",
    "We can use the <code> \\ </code> character:"
   ]
  },
  {
   "cell_type": "code",
   "execution_count": 1,
   "id": "966c5418",
   "metadata": {},
   "outputs": [
    {
     "name": "stdout",
     "output_type": "stream",
     "text": [
      "This is a really long string. I better split it into multiple linesif I want anyone to read it\n"
     ]
    }
   ],
   "source": [
    "x = \"This is a really long string. \\\n",
    "I better split it into multiple lines\\\n",
    "if I want anyone to read it\"\n",
    "\n",
    "print(x)"
   ]
  },
  {
   "cell_type": "markdown",
   "id": "10a4d325",
   "metadata": {},
   "source": [
    "Also, anything that is enclosed in <code>{}</code>, <code>[]</code> or <code>()</code> can continue in the next line without using a <code> \\ </code>."
   ]
  },
  {
   "cell_type": "code",
   "execution_count": 2,
   "id": "b0daab20",
   "metadata": {},
   "outputs": [
    {
     "name": "stdout",
     "output_type": "stream",
     "text": [
      "[[1, 2, 3], [4, 5, 6], [7, 8, 9]]\n"
     ]
    }
   ],
   "source": [
    "x = [ [1, 2, 3],\n",
    "    [4, 5, 6],\n",
    "    [7, 8, 9]]\n",
    "\n",
    "print(x)"
   ]
  },
  {
   "cell_type": "markdown",
   "id": "a76dfb23",
   "metadata": {},
   "source": [
    "#### 2) Identation \n",
    "\n",
    "The way lines are alinged in python does not merely improve readability but specifies blocks of code.\n",
    "\n",
    "For instance, a <code>while</code> loop is followed by a block of code which is to be executed many times. To define what belongs in the <code>while</code> loop we must indent and align the corresponding statemetns. The <code>while</code> ends at the next statement that is not aligned!\n"
   ]
  },
  {
   "cell_type": "code",
   "execution_count": 3,
   "id": "d4cd831d",
   "metadata": {},
   "outputs": [
    {
     "name": "stdout",
     "output_type": "stream",
     "text": [
      "[2, 4, 6, 8, 10, 12, 14, 16, 18]\n"
     ]
    }
   ],
   "source": [
    "i = 1\n",
    "x = list()\n",
    "while (i<10):\n",
    "    \n",
    "    \n",
    "    # empty lines do not matter!\n",
    "    x.append (2*i)\n",
    "    \n",
    "    i += 1\n",
    "    \n",
    "print(x) #the print statement is not part of the loop"
   ]
  },
  {
   "cell_type": "markdown",
   "id": "d86ba8cb",
   "metadata": {},
   "source": [
    "#### 3) Scope\n",
    "\n",
    "Scope is a region of a program or script where the name of an item (e.g. a variable) is recognized. \n",
    "\n",
    "The variables that are created outside functions or classes are recognized everywhere in a python script or jupyter notebook. Such variables are called global.\n",
    "\n",
    "Variables that are creayed within a function are local and only recognized inside that function. However, the function recognizes the global variables (or the <i>enclosing scope</i>, if the function is defined inside another function).\n"
   ]
  },
  {
   "cell_type": "code",
   "execution_count": 4,
   "id": "c0aa38c1",
   "metadata": {},
   "outputs": [
    {
     "name": "stdout",
     "output_type": "stream",
     "text": [
      "11\n"
     ]
    }
   ],
   "source": [
    "x = 1\n",
    "\n",
    "def fun ():\n",
    "    temp = x + 10   # the function can 'see' the global variable x\n",
    "    print(temp)\n",
    "    \n",
    "fun() "
   ]
  },
  {
   "cell_type": "code",
   "execution_count": 5,
   "id": "e8e79ffa",
   "metadata": {},
   "outputs": [
    {
     "ename": "NameError",
     "evalue": "name 'temp' is not defined",
     "output_type": "error",
     "traceback": [
      "\u001b[0;31m---------------------------------------------------------------------------\u001b[0m",
      "\u001b[0;31mNameError\u001b[0m                                 Traceback (most recent call last)",
      "Input \u001b[0;32mIn [5]\u001b[0m, in \u001b[0;36m<cell line: 1>\u001b[0;34m()\u001b[0m\n\u001b[0;32m----> 1\u001b[0m \u001b[38;5;28mprint\u001b[39m(\u001b[43mtemp\u001b[49m)\n",
      "\u001b[0;31mNameError\u001b[0m: name 'temp' is not defined"
     ]
    }
   ],
   "source": [
    "print(temp)    # but the local variable temp cannot be accessed from outside the function!\n"
   ]
  },
  {
   "cell_type": "markdown",
   "id": "783980d3",
   "metadata": {},
   "source": [
    "Scope becomes more complicated when local variables have the same name as global variables. \n",
    "\n",
    "Python dynamically creates variables. That means that variables are created when a value is assinged to them.\n",
    "```python\n",
    "x = 1\n",
    "```\n",
    "The above statement creates <code> x</code>.\n",
    "\n",
    "When <code>x</code> is created, its scope is also defined. If it was created inside a function then it is local. \n",
    "\n",
    "That is true even if a global variable with the same name already exists!"
   ]
  },
  {
   "cell_type": "code",
   "execution_count": 6,
   "id": "c500a049",
   "metadata": {},
   "outputs": [
    {
     "name": "stdout",
     "output_type": "stream",
     "text": [
      "5\n",
      "1\n"
     ]
    }
   ],
   "source": [
    "x = 1\n",
    "\n",
    "def fun():\n",
    "    x = 5     # this x is not the same as the global x because it is created inside the function\n",
    "    print(x) \n",
    "    \n",
    "fun()    \n",
    "print(x)"
   ]
  },
  {
   "cell_type": "markdown",
   "id": "839c29dd",
   "metadata": {},
   "source": [
    "When we want to create a global variable (or change an existing one) inside a function, we have to use the keyword <code>global</code>."
   ]
  },
  {
   "cell_type": "code",
   "execution_count": 7,
   "id": "511ac05e",
   "metadata": {},
   "outputs": [
    {
     "name": "stdout",
     "output_type": "stream",
     "text": [
      "5\n",
      "5\n"
     ]
    }
   ],
   "source": [
    "x = 1\n",
    "\n",
    "def fun():\n",
    "    global x # this x is the global x from now on\n",
    "    x = 5     \n",
    "    print(x) \n",
    "    \n",
    "fun()    \n",
    "print(x)"
   ]
  },
  {
   "cell_type": "markdown",
   "id": "cdc19891",
   "metadata": {},
   "source": [
    "## Jupyter tips!\n",
    "\n",
    "1) Use <code>tab</code> to autocplete and get suggestions.\n",
    "\n",
    "2) Use <code>shift + tab</code> when calling a function to see a quick help window. When using the key combination the cursor must be inside the <code>( )</code>"
   ]
  },
  {
   "cell_type": "markdown",
   "id": "a4f778f0",
   "metadata": {},
   "source": [
    "## User input"
   ]
  },
  {
   "cell_type": "code",
   "execution_count": 8,
   "id": "5edff524",
   "metadata": {},
   "outputs": [
    {
     "name": "stdout",
     "output_type": "stream",
     "text": [
      "Write something 5\n"
     ]
    },
    {
     "data": {
      "text/plain": [
       "str"
      ]
     },
     "execution_count": 8,
     "metadata": {},
     "output_type": "execute_result"
    }
   ],
   "source": [
    "WhatEver = input(\"Write something \")\n",
    "type(WhatEver)\n"
   ]
  },
  {
   "cell_type": "code",
   "execution_count": 9,
   "id": "9e253920",
   "metadata": {
    "scrolled": true
   },
   "outputs": [
    {
     "data": {
      "text/plain": [
       "int"
      ]
     },
     "execution_count": 9,
     "metadata": {},
     "output_type": "execute_result"
    }
   ],
   "source": [
    "type(int(WhatEver))"
   ]
  }
 ],
 "metadata": {
  "kernelspec": {
   "display_name": "Python 3 (ipykernel)",
   "language": "python",
   "name": "python3"
  },
  "language_info": {
   "codemirror_mode": {
    "name": "ipython",
    "version": 3
   },
   "file_extension": ".py",
   "mimetype": "text/x-python",
   "name": "python",
   "nbconvert_exporter": "python",
   "pygments_lexer": "ipython3",
   "version": "3.10.7"
  }
 },
 "nbformat": 4,
 "nbformat_minor": 5
}
